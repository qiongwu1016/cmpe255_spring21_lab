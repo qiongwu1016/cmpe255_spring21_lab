{
 "cells": [
  {
   "cell_type": "code",
   "execution_count": 4,
   "id": "dangerous-detail",
   "metadata": {},
   "outputs": [],
   "source": [
    "import pandas as pd\n",
    "import category_encoders as ce"
   ]
  },
  {
   "cell_type": "code",
   "execution_count": 5,
   "id": "looking-astrology",
   "metadata": {},
   "outputs": [
    {
     "name": "stdout",
     "output_type": "stream",
     "text": [
      "   Ids Colors\n",
      "0    1    Red\n",
      "1    2  Green\n",
      "2    3   Blue\n",
      "Label encoding\n",
      "   Ids  Colors\n",
      "0    1       1\n",
      "1    2       2\n",
      "2    3       3\n",
      "One-hot encoding\n",
      "   Ids  Colors_1  Colors_2  Colors_3\n",
      "0    1         1         0         0\n",
      "1    2         0         1         0\n",
      "2    3         0         0         1\n"
     ]
    },
    {
     "name": "stderr",
     "output_type": "stream",
     "text": [
      "/Users/qiongwu/opt/anaconda3/envs/panda/lib/python3.7/site-packages/category_encoders/utils.py:21: FutureWarning: is_categorical is deprecated and will be removed in a future version.  Use is_categorical_dtype instead\n",
      "  elif pd.api.types.is_categorical(cols):\n"
     ]
    }
   ],
   "source": [
    "ids = [1, 2, 3, 4, 5, 6, 7]\n",
    "# Categorical features\n",
    "colors = ['Red', 'Green', 'Blue']\n",
    "\n",
    "df = pd.DataFrame(list(zip(ids, colors)), columns=['Ids', 'Colors'])\n",
    "\n",
    "# raw data\n",
    "print(df.head())\n",
    "\n",
    "# Label encoding (via OrdinalEncoder) for a large number of classes in a categorial feature.\n",
    "encoder = ce.OrdinalEncoder(cols='Colors')\n",
    "result = encoder.fit_transform(df)\n",
    "\n",
    "print(\"Label encoding\")\n",
    "print(result)\n",
    "\n",
    "# One-hot encoding uses binary buckets to repesent classes.\n",
    "one_hot_enc = ce.OneHotEncoder(cols='Colors')\n",
    "result = one_hot_enc.fit_transform(df)\n",
    "print(\"One-hot encoding\")\n",
    "print(result)"
   ]
  },
  {
   "cell_type": "code",
   "execution_count": null,
   "id": "deluxe-circumstances",
   "metadata": {},
   "outputs": [],
   "source": []
  }
 ],
 "metadata": {
  "kernelspec": {
   "display_name": "Python 3",
   "language": "python",
   "name": "python3"
  },
  "language_info": {
   "codemirror_mode": {
    "name": "ipython",
    "version": 3
   },
   "file_extension": ".py",
   "mimetype": "text/x-python",
   "name": "python",
   "nbconvert_exporter": "python",
   "pygments_lexer": "ipython3",
   "version": "3.7.9"
  }
 },
 "nbformat": 4,
 "nbformat_minor": 5
}
